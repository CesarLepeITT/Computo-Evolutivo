{
 "cells": [
  {
   "cell_type": "code",
   "execution_count": null,
   "metadata": {},
   "outputs": [],
   "source": [
    "from ecuaciones import Ecuaciones \n",
    "from methods import Methods as m\n",
    "from experiment import Experiment as ex\n",
    "\n",
    "import math\n",
    "import pandas\n",
    "import pandas as pd\n",
    "import os"
   ]
  },
  {
   "cell_type": "code",
   "execution_count": null,
   "metadata": {},
   "outputs": [],
   "source": [
    "import experiment\n",
    "experiment.Experiment.experiment(10, 1000)"
   ]
  },
  {
   "cell_type": "code",
   "execution_count": null,
   "metadata": {},
   "outputs": [],
   "source": [
    "import numpy as np\n",
    "def optimize_hyperparameters(fitness_function, num_genes, num_iterations, maximize=False, metodo = None, repetitions = 30):\n",
    "\n",
    "    best_median = float('inf')\n",
    "    best_params = None\n",
    "    best_solution = None\n",
    "    # Definición de espacios de búsqueda para cada hiperparámetro\n",
    "    num_individuals_list = [50, 100, 150, 200,300,400,500]\n",
    "    percentage_best_list = [0.1, 0.2, 0.3, 0.4, 0.5,0.6,0.7,0.8,0.9,1]\n",
    "    mutation_prob_list = [0.01, 0.05, 0.1, 0.2, 0.3, 0.4,0.5]\n",
    "\n",
    "    \n",
    "    # Recorrer cada combinación de parámetros\n",
    "    for num_individuals in num_individuals_list:\n",
    "        for percentage_best in percentage_best_list:\n",
    "            for mutation_prob in mutation_prob_list:\n",
    "                fitness_values = []\n",
    "                solutions = []\n",
    "                for rep in range(repetitions):\n",
    "                    solution, convergence = metodo(\n",
    "                        fitness_function=fitness_function,\n",
    "                        num_individuals=num_individuals,\n",
    "                        num_genes=num_genes,\n",
    "                        percentage_best=percentage_best,\n",
    "                        mutation_prob=mutation_prob,\n",
    "                        num_iterations=num_iterations,\n",
    "                        maximize=maximize\n",
    "                    )\n",
    "                    fitness = fitness_function(solution)\n",
    "                    fitness_values.append(fitness)\n",
    "                    solutions.append(solution)\n",
    "                    \n",
    "                median_fitness = np.median(fitness_values)\n",
    "                print(f'num_individuals: {num_individuals}, percentage_best: {percentage_best}, mutation_prob: {mutation_prob}, median fitness: {median_fitness}')\n",
    "                \n",
    "                # Actualizar la mejor configuración si la mediana es menor\n",
    "                if median_fitness < best_median:\n",
    "                    best_median = median_fitness\n",
    "                    best_params = (num_individuals, percentage_best, mutation_prob)\n",
    "                    # Se selecciona la mejor solución de las repeticiones actuales\n",
    "                    best_solution = solutions[np.argmin(fitness_values)]\n",
    "\n",
    "    print(f'\\nMejores parámetros encontrados: num_individuals = {best_params[0]}, '\n",
    "          f'percentage_best = {best_params[1]}, mutation_prob = {best_params[2]} con median fitness = {best_median}')\n",
    "    \n",
    "    return best_solution, best_params, best_median\n",
    "\n"
   ]
  },
  {
   "cell_type": "code",
   "execution_count": null,
   "metadata": {},
   "outputs": [],
   "source": [
    "xd = m(-10,10)\n",
    "funciones = [Ecuaciones.F3, Ecuaciones.F4, Ecuaciones.F5, Ecuaciones.F11]\n",
    "metodo = xd.evolutionary_algorithm\n",
    "configuraciones = []\n"
   ]
  },
  {
   "cell_type": "code",
   "execution_count": null,
   "metadata": {},
   "outputs": [],
   "source": [
    "from multiprocessing import Pool\n",
    "\n",
    "def optimize_single_function(args):\n",
    "    func, metodo, num_genes, num_iterations, maximize = args\n",
    "    best_solution, best_params, best_fitness = optimize_hyperparameters(\n",
    "        fitness_function=func,\n",
    "        num_genes=num_genes,\n",
    "        num_iterations=num_iterations,\n",
    "        maximize=maximize,\n",
    "        metodo=metodo\n",
    "    )\n",
    "    return best_params\n",
    "\n",
    "def optimize_configurations_parallel(funciones, metodo, num_genes=5, num_iterations=1000, maximize=False):\n",
    "    args = [(func, metodo, num_genes, num_iterations, maximize) for func in funciones]\n",
    "    with Pool() as pool:  # Usa todos los núcleos disponibles\n",
    "        configuraciones = pool.map(optimize_single_function, args)\n",
    "    return configuraciones\n",
    "\n",
    "# Uso:\n",
    "configuraciones = optimize_configurations_parallel(funciones, metodo)"
   ]
  },
  {
   "cell_type": "code",
   "execution_count": null,
   "metadata": {},
   "outputs": [],
   "source": [
    "configuraciones"
   ]
  }
 ],
 "metadata": {
  "kernelspec": {
   "display_name": "gsgp",
   "language": "python",
   "name": "python3"
  },
  "language_info": {
   "codemirror_mode": {
    "name": "ipython",
    "version": 3
   },
   "file_extension": ".py",
   "mimetype": "text/x-python",
   "name": "python",
   "nbconvert_exporter": "python",
   "pygments_lexer": "ipython3",
   "version": "3.8.16"
  }
 },
 "nbformat": 4,
 "nbformat_minor": 2
}
