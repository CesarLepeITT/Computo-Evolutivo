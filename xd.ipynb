{
 "cells": [
  {
   "cell_type": "code",
   "execution_count": null,
   "metadata": {},
   "outputs": [],
   "source": [
    "from ecuaciones import Ecuaciones \n",
    "from methods import Methods as m\n",
    "from experiment import Experiment as ex\n",
    "\n",
    "import pandas\n",
    "import pandas as pd\n",
    "import os"
   ]
  },
  {
   "cell_type": "code",
   "execution_count": null,
   "metadata": {},
   "outputs": [],
   "source": [
    "ex.experiment(10, 100)"
   ]
  },
  {
   "cell_type": "code",
   "execution_count": null,
   "metadata": {},
   "outputs": [],
   "source": [
    "from ecuaciones import Ecuaciones as eq\n",
    "dim = 1000\n",
    "eq.F3([0] * dim), eq.F4([1]* dim), eq.F5([0] * dim), eq.F11([0] * dim)"
   ]
  }
 ],
 "metadata": {
  "kernelspec": {
   "display_name": "gsgp",
   "language": "python",
   "name": "python3"
  },
  "language_info": {
   "codemirror_mode": {
    "name": "ipython",
    "version": 3
   },
   "file_extension": ".py",
   "mimetype": "text/x-python",
   "name": "python",
   "nbconvert_exporter": "python",
   "pygments_lexer": "ipython3",
   "version": "3.8.16"
  }
 },
 "nbformat": 4,
 "nbformat_minor": 2
}
